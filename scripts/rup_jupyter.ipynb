{
 "cells": [
  {
   "cell_type": "code",
   "execution_count": 1,
   "metadata": {},
   "outputs": [],
   "source": [
    "import pandas as pd\n",
    "import json"
   ]
  },
  {
   "cell_type": "code",
   "execution_count": 2,
   "metadata": {},
   "outputs": [],
   "source": [
    "useless_modules = open(\"useless_modules.txt\", \"r\").readlines()"
   ]
  },
  {
   "cell_type": "code",
   "execution_count": 3,
   "metadata": {},
   "outputs": [],
   "source": [
    "useless_modules_cleaned = []"
   ]
  },
  {
   "cell_type": "code",
   "execution_count": 4,
   "metadata": {},
   "outputs": [],
   "source": [
    "for line in useless_modules:\n",
    "    useless_modules_cleaned.append(line.replace(\"* \", \"\").strip())"
   ]
  },
  {
   "cell_type": "code",
   "execution_count": 5,
   "metadata": {
    "scrolled": true
   },
   "outputs": [
    {
     "name": "stdout",
     "output_type": "stream",
     "text": [
      "{\n",
      " \"autoprefixer\": \"^7.1.2\",\n",
      " \"babel-core\": \"^6.26.0\",\n",
      " \"babel-eslint\": \"7.2.3\",\n",
      " \"babel-jest\": \"20.0.3\",\n",
      " \"babel-loader\": \"^7.1.1\",\n",
      " \"babel-preset-react-app\": \"^3.0.2\",\n",
      " \"babel-runtime\": \"^6.26.0\",\n",
      " \"case-sensitive-paths-webpack-plugin\": \"^2.1.1\",\n",
      " \"chalk\": \"^2.4.2\",\n",
      " \"css-loader\": \"^0.28.4\",\n",
      " \"dotenv\": \"4.0.0\",\n",
      " \"eslint\": \"4.4.1\",\n",
      " \"eslint-config-react-app\": \"^2.0.0\",\n",
      " \"eslint-loader\": \"1.9.0\",\n",
      " \"eslint-plugin-flowtype\": \"2.35.0\",\n",
      " \"eslint-plugin-import\": \"2.7.0\",\n",
      " \"eslint-plugin-jsx-a11y\": \"5.1.1\",\n",
      " \"eslint-plugin-react\": \"7.1.0\",\n",
      " \"extract-text-webpack-plugin\": \"^3.0.0\",\n",
      " \"file-loader\": \"0.11.2\",\n",
      " \"fs-extra\": \"3.0.1\",\n",
      " \"html-webpack-plugin\": \"^2.29.0\",\n",
      " \"jest\": \"^20.0.4\",\n",
      " \"less\": \"^2.7.2\",\n",
      " \"less-loader\": \"^4.0.3\",\n",
      " \"object-assign\": \"4.1.1\",\n",
      " \"postcss-flexbugs-fixes\": \"3.2.0\",\n",
      " \"postcss-loader\": \"2.0.6\",\n",
      " \"promise\": \"8.0.1\",\n",
      " \"react-dev-utils\": \"^3.1.0\",\n",
      " \"react-error-overlay\": \"^1.0.6\",\n",
      " \"script-ext-html-webpack-plugin\": \"^1.8.3\",\n",
      " \"style-loader\": \"0.18.2\",\n",
      " \"sw-precache-webpack-plugin\": \"0.11.4\",\n",
      " \"url-loader\": \"0.5.9\",\n",
      " \"webpack\": \"^3.5.5\",\n",
      " \"webpack-bundle-analyzer\": \"^3.0.4\",\n",
      " \"webpack-dev-server\": \"2.7.1\",\n",
      " \"webpack-manifest-plugin\": \"1.3.1\",\n",
      " \"whatwg-fetch\": \"2.0.3\"\n",
      "}\n"
     ]
    }
   ],
   "source": [
    "file_one = open(\"../package.json\")\n",
    "with file_one as json_file:\n",
    "    modules_list = json.load(json_file)[\"devDependencies\"]\n",
    "    modules_list_keys = list(modules_list.keys())\n",
    "    modules_list_len = len(modules_list)\n",
    "    modules_list_cleaned = []\n",
    "    \n",
    "    for iterator in range(modules_list_len):\n",
    "        if modules_list_keys[iterator] in useless_modules_cleaned:\n",
    "            modules_list.pop(modules_list_keys[iterator])[0]\n",
    "    print(json.dumps(modules_list, sort_keys=True, indent=True))"
   ]
  },
  {
   "cell_type": "code",
   "execution_count": null,
   "metadata": {},
   "outputs": [],
   "source": []
  }
 ],
 "metadata": {
  "kernelspec": {
   "display_name": "Python 3",
   "language": "python",
   "name": "python3"
  },
  "language_info": {
   "codemirror_mode": {
    "name": "ipython",
    "version": 3
   },
   "file_extension": ".py",
   "mimetype": "text/x-python",
   "name": "python",
   "nbconvert_exporter": "python",
   "pygments_lexer": "ipython3",
   "version": "3.7.4"
  }
 },
 "nbformat": 4,
 "nbformat_minor": 2
}
